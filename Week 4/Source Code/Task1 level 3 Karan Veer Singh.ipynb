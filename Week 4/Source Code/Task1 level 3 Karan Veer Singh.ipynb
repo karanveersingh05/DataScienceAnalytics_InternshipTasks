{
 "cells": [
  {
   "cell_type": "code",
   "execution_count": 9,
   "id": "ee788cb3",
   "metadata": {},
   "outputs": [],
   "source": [
    "#Karan Veer Singh\n",
    "#Internship Task 1\n",
    "#Cognifyz Tech \n",
    "import pandas as pd, numpy as np\n",
    "from sklearn.model_selection import train_test_split\n",
    "from sklearn.linear_model import LinearRegression\n",
    "from sklearn.tree import DecisionTreeRegressor\n",
    "from sklearn.ensemble import RandomForestRegressor\n",
    "from sklearn.metrics import mean_squared_error, r2_score\n",
    "import matplotlib.pyplot as plt\n",
    "\n",
    "df=pd.read_csv('Dataset .csv')"
   ]
  },
  {
   "cell_type": "code",
   "execution_count": 13,
   "id": "1ada938a",
   "metadata": {},
   "outputs": [],
   "source": [
    "df['nameLen']=df['Restaurant Name'].str.len()\n",
    "df['addrLen']=df['Address'].str.len()\n",
    "df['tbBin']=df['Has Table booking'].map({'Yes':1,'No':0})\n",
    "df['odBin']=df['Has Online delivery'].map({'Yes':1,'No':0})\n",
    "feat=['Average Cost for two','Price range','nameLen','addrLen','tbBin','odBin','Votes']\n",
    "X=pd.get_dummies(df[feat],columns=['Price range'],drop_first=True)\n",
    "y=df['Aggregate rating']"
   ]
  },
  {
   "cell_type": "code",
   "execution_count": 14,
   "id": "d842541a",
   "metadata": {},
   "outputs": [
    {
     "name": "stdout",
     "output_type": "stream",
     "text": [
      "train/test: (6685, 9) (2866, 9)\n"
     ]
    }
   ],
   "source": [
    "Xtr,Xte,ytr,yte=train_test_split(X,y,test_size=0.3,random_state=42)\n",
    "print(\"train/test:\",Xtr.shape,Xte.shape)"
   ]
  },
  {
   "cell_type": "code",
   "execution_count": 17,
   "id": "13a47035",
   "metadata": {},
   "outputs": [
    {
     "name": "stdout",
     "output_type": "stream",
     "text": [
      "{'LR': {'RMSE': 1.296, 'R2': 0.258}, 'DT': {'RMSE': 0.46, 'R2': 0.906}, 'RF': {'RMSE': 0.342, 'R2': 0.948}}\n"
     ]
    }
   ],
   "source": [
    "mods={'LR':LinearRegression(),'DT':DecisionTreeRegressor(random_state=42),'RF':RandomForestRegressor(n_estimators=100,random_state=42)}\n",
    "res={}\n",
    "for k,m in mods.items():\n",
    "    m.fit(Xtr,ytr)\n",
    "    pred=m.predict(Xte)\n",
    "    rm=np.sqrt(mean_squared_error(yte,pred))\n",
    "    r2=r2_score(yte,pred)\n",
    "    res[k]={'RMSE':round(rm,3),'R2':round(r2,3)}\n",
    "print(res)"
   ]
  },
  {
   "cell_type": "code",
   "execution_count": 7,
   "id": "b4408aa0",
   "metadata": {},
   "outputs": [
    {
     "data": {
      "image/png": "[encoded data removed]",
      "text/plain": [
       "<Figure size 700x400 with 1 Axes>"
      ]
     },
     "metadata": {},
     "output_type": "display_data"
    }
   ],
   "source": [
    "labs=list(res.keys())\n",
    "rms=[res[k]['RMSE'] for k in labs]\n",
    "r2s=[res[k]['R2'] for k in labs]\n",
    "x=np.arange(len(labs))\n",
    "w=0.3\n",
    "fig,ax=plt.subplots(figsize=(7,4))\n",
    "ax.bar(x-w/2,rms,w,label='RMSE',color='coral')\n",
    "ax.bar(x+w/2,r2s,w,label='R2',color='skyblue')\n",
    "ax.set_xticks(x);ax.set_xticklabels(labs)\n",
    "ax.set_title('Model Perf')\n",
    "ax.legend()\n",
    "plt.tight_layout();plt.show()"
   ]
  },
  {
   "cell_type": "code",
   "execution_count": 8,
   "id": "7d083980",
   "metadata": {},
   "outputs": [
    {
     "name": "stdout",
     "output_type": "stream",
     "text": [
      "best RMSE: ('RF', {'RMSE': 0.342, 'R2': 0.948})\n",
      "best R2: ('RF', {'RMSE': 0.342, 'R2': 0.948})\n"
     ]
    }
   ],
   "source": [
    "bRm=min(res.items(),key=lambda x:x[1]['RMSE'])\n",
    "bR2=max(res.items(),key=lambda x:x[1]['R2'])\n",
    "print(\"best RMSE:\",bRm)\n",
    "print(\"best R2:\",bR2)"
   ]
  },
  {
   "cell_type": "code",
   "execution_count": null,
   "id": "d36c502a-3580-486b-8bf1-821edb9b2bfd",
   "metadata": {},
   "outputs": [],
   "source": []
  }
 ],
 "metadata": {
  "kernelspec": {
   "display_name": "Python 3 (ipykernel)",
   "language": "python",
   "name": "python3"
  },
  "language_info": {
   "codemirror_mode": {
    "name": "ipython",
    "version": 3
   },
   "file_extension": ".py",
   "mimetype": "text/x-python",
   "name": "python",
   "nbconvert_exporter": "python",
   "pygments_lexer": "ipython3",
   "version": "3.12.7"
  }
 },
 "nbformat": 4,
 "nbformat_minor": 5
}
