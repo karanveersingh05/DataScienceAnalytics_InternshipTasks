{
 "cells": [
  {
   "cell_type": "code",
   "execution_count": 1,
   "id": "2b3e76c3-8088-4077-95e8-9d8080ddc1fe",
   "metadata": {},
   "outputs": [
    {
     "name": "stdout",
     "output_type": "stream",
     "text": [
      "shape: (9551, 21)\n",
      "cols: ['Restaurant ID', 'Restaurant Name', 'Country Code', 'City', 'Address', 'Locality', 'Locality Verbose', 'Longitude', 'Latitude', 'Cuisines', 'Average Cost for two', 'Currency', 'Has Table booking', 'Has Online delivery', 'Is delivering now', 'Switch to order menu', 'Price range', 'Aggregate rating', 'Rating color', 'Rating text', 'Votes']\n"
     ]
    },
    {
     "data": {
      "text/plain": [
       "Restaurant ID             int64\n",
       "Restaurant Name          object\n",
       "Country Code              int64\n",
       "City                     object\n",
       "Address                  object\n",
       "Locality                 object\n",
       "Locality Verbose         object\n",
       "Longitude               float64\n",
       "Latitude                float64\n",
       "Cuisines                 object\n",
       "Average Cost for two      int64\n",
       "Currency                 object\n",
       "Has Table booking        object\n",
       "Has Online delivery      object\n",
       "Is delivering now        object\n",
       "Switch to order menu     object\n",
       "Price range               int64\n",
       "Aggregate rating        float64\n",
       "Rating color             object\n",
       "Rating text              object\n",
       "Votes                     int64\n",
       "dtype: object"
      ]
     },
     "execution_count": 1,
     "metadata": {},
     "output_type": "execute_result"
    }
   ],
   "source": [
    "#Karan Veer Singh\n",
    "#Internship Task 1\n",
    "#Cognifyz Tech \n",
    "\n",
    "import pandas as pd, numpy as np; import matplotlib.pyplot as plt\n",
    "df=pd.read_csv('Dataset .csv'); print('shape:',df.shape); print('cols:',list(df.columns)); df.dtypes"
   ]
  },
  {
   "cell_type": "code",
   "execution_count": 2,
   "id": "1df7ac41-f280-46de-ac97-b4b34e87368f",
   "metadata": {},
   "outputs": [
    {
     "name": "stdout",
     "output_type": "stream",
     "text": [
      "numeric cols: ['Restaurant ID', 'Country Code', 'Longitude', 'Latitude', 'Average Cost for two', 'Price range', 'Aggregate rating', 'Votes']\n",
      "categorical cols: ['Restaurant Name', 'City', 'Address', 'Locality', 'Locality Verbose', 'Cuisines', 'Currency', 'Has Table booking', 'Has Online delivery', 'Is delivering now', 'Switch to order menu', 'Rating color', 'Rating text']\n"
     ]
    },
    {
     "data": {
      "text/plain": [
       "Restaurant ID             int64\n",
       "Restaurant Name          object\n",
       "Country Code              int64\n",
       "City                     object\n",
       "Address                  object\n",
       "Locality                 object\n",
       "Locality Verbose         object\n",
       "Longitude               float64\n",
       "Latitude                float64\n",
       "Cuisines                 object\n",
       "Average Cost for two      int64\n",
       "Currency                 object\n",
       "Has Table booking        object\n",
       "Has Online delivery      object\n",
       "Is delivering now        object\n",
       "Switch to order menu     object\n",
       "Price range             float64\n",
       "Aggregate rating        float64\n",
       "Rating color             object\n",
       "Rating text              object\n",
       "Votes                     int64\n",
       "dtype: object"
      ]
     },
     "execution_count": 2,
     "metadata": {},
     "output_type": "execute_result"
    }
   ],
   "source": [
    "numCols=df.select_dtypes(include=[np.number]).columns.tolist(); catCols=[c for c in df.columns if c not in numCols]\n",
    "print('numeric cols:',numCols); print('categorical cols:',catCols)\n",
    "for c in ['Aggregate rating','Votes','Average Cost for two','Price range']:\n",
    "    if c in df.columns: df[c]=pd.to_numeric(df[c],errors='coerce')\n",
    "for c in ['Has Table booking','Has Online delivery','City','Cuisines']:\n",
    "    if c in df.columns: df[c]=df[c].astype(str)\n",
    "df['Price range']=df.get('Price range',pd.Series(index=df.index,dtype='float64')).astype('float64')\n",
    "df.dtypes"
   ]
  },
  {
   "cell_type": "code",
   "execution_count": 3,
   "id": "f02c6d2a-a346-41bc-84c5-990f6e4cda31",
   "metadata": {},
   "outputs": [
    {
     "name": "stdout",
     "output_type": "stream",
     "text": [
      "missing counts:\n",
      " Restaurant ID           0\n",
      "Currency                0\n",
      "Rating text             0\n",
      "Rating color            0\n",
      "Aggregate rating        0\n",
      "Price range             0\n",
      "Switch to order menu    0\n",
      "Is delivering now       0\n",
      "Has Online delivery     0\n",
      "Has Table booking       0\n",
      "Average Cost for two    0\n",
      "Restaurant Name         0\n",
      "Cuisines                0\n",
      "Latitude                0\n",
      "Longitude               0\n",
      "Locality Verbose        0\n",
      "Locality                0\n",
      "Address                 0\n",
      "City                    0\n",
      "Country Code            0\n",
      "dtype: int64\n",
      "post-impute missing (top):\n",
      " Restaurant ID           0\n",
      "Currency                0\n",
      "Rating text             0\n",
      "Rating color            0\n",
      "Aggregate rating        0\n",
      "Price range             0\n",
      "Switch to order menu    0\n",
      "Is delivering now       0\n",
      "Has Online delivery     0\n",
      "Has Table booking       0\n",
      "dtype: int64\n"
     ]
    }
   ],
   "source": [
    "miss=df.isna().sum().sort_values(ascending=False); print('missing counts:\\n',miss.head(20))\n",
    "if 'City' in df: df['City']=df['City'].fillna('Unknown City')\n",
    "if 'Cuisines' in df: df['Cuisines']=df['Cuisines'].fillna('Unknown')\n",
    "for c in ['Votes','Average Cost for two','Price range']:\n",
    "    if c in df.columns: df[c]=df[c].fillna(df[c].median())\n",
    "if 'Aggregate rating' in df: df['Aggregate rating']=df['Aggregate rating'].fillna(df['Aggregate rating'].median())\n",
    "print('post-impute missing (top):\\n',df.isna().sum().sort_values(ascending=False).head(10))"
   ]
  },
  {
   "cell_type": "code",
   "execution_count": 7,
   "id": "552cdbb2-c866-464d-ba48-291a41bc036a",
   "metadata": {},
   "outputs": [
    {
     "name": "stdout",
     "output_type": "stream",
     "text": [
      "table booking counts:\n",
      " Has Table booking\n",
      "No     8393\n",
      "Yes    1158\n",
      "Name: count, dtype: int64 \n",
      "%:\n",
      " Has Table booking\n",
      "No     87.88\n",
      "Yes    12.12\n",
      "Name: count, dtype: float64\n",
      "\n",
      "online delivery counts:\n",
      " Has Online delivery\n",
      "No     7100\n",
      "Yes    2451\n",
      "Name: count, dtype: int64 \n",
      "%:\n",
      " Has Online delivery\n",
      "No     74.34\n",
      "Yes    25.66\n",
      "Name: count, dtype: float64\n",
      "\n",
      "rating by table booking:\n",
      "                     mean  median  count\n",
      "Has Table booking                      \n",
      "No                 2.559     3.1   8393\n",
      "Yes                3.442     3.6   1158\n",
      "\n",
      "rating by online delivery:\n",
      "                       mean  median  count\n",
      "Has Online delivery                      \n",
      "No                   2.465     3.1   7100\n",
      "Yes                  3.249     3.4   2451\n"
     ]
    }
   ],
   "source": [
    "tb=df.get('Has Table booking',pd.Series(index=df.index,dtype='object'))\n",
    "od=df.get('Has Online delivery',pd.Series(index=df.index,dtype='object'))\n",
    "tb_counts=tb.value_counts(); od_counts=od.value_counts()\n",
    "tb_pct=(tb_counts/tb_counts.sum()*100).round(2); od_pct=(od_counts/od_counts.sum()*100).round(2)\n",
    "print('table booking counts:\\n',tb_counts,'\\n%:\\n',tb_pct)\n",
    "print('\\nonline delivery counts:\\n',od_counts,'\\n%:\\n',od_pct)\n",
    "tb_stats=df.groupby(tb)['Aggregate rating'].agg(['mean','median','count']).round(3)\n",
    "od_stats=df.groupby(od)['Aggregate rating'].agg(['mean','median','count']).round(3)\n",
    "print('\\nrating by table booking:\\n',tb_stats)\n",
    "print('\\nrating by online delivery:\\n',od_stats)"
   ]
  },
  {
   "cell_type": "code",
   "execution_count": 8,
   "id": "fada5c5e-3f49-4068-8a18-9309a8a4c920",
   "metadata": {},
   "outputs": [
    {
     "name": "stdout",
     "output_type": "stream",
     "text": [
      "online delivery by price range (%):\n",
      " Has Online delivery     No    Yes\n",
      "Price range                      \n",
      "1.0                  84.23  15.77\n",
      "2.0                  58.69  41.31\n",
      "3.0                  70.81  29.19\n",
      "4.0                  90.96   9.04\n",
      "\n",
      "counts:\n",
      " Has Online delivery    No   Yes\n",
      "Price range                    \n",
      "1.0                  3743   701\n",
      "2.0                  1827  1286\n",
      "3.0                   997   411\n",
      "4.0                   533    53\n"
     ]
    },
    {
     "data": {
      "image/png": "[encoded data removed]",
      "text/plain": [
       "<Figure size 800x400 with 1 Axes>"
      ]
     },
     "metadata": {},
     "output_type": "display_data"
    }
   ],
   "source": [
    "od_price=pd.crosstab(df['Price range'],od,normalize='index')*100\n",
    "od_price_counts=pd.crosstab(df['Price range'],od)\n",
    "print('online delivery by price range (%):\\n',od_price.round(2))\n",
    "print('\\ncounts:\\n',od_price_counts)\n",
    "plt.figure(figsize=(8,4))\n",
    "ys=od_price.get('Yes',pd.Series(0,index=od_price.index)).values\n",
    "xs=np.arange(len(od_price.index)); plt.bar(xs,ys,color='skyblue',edgecolor='navy')\n",
    "plt.xticks(xs,od_price.index); plt.title('Online delivery % by price range'); plt.xlabel('price range'); plt.ylabel('% yes'); plt.tight_layout(); plt.show()"
   ]
  },
  {
   "cell_type": "code",
   "execution_count": 10,
   "id": "cc849572-ec80-48a9-829e-003cc477f2b2",
   "metadata": {},
   "outputs": [
    {
     "name": "stdout",
     "output_type": "stream",
     "text": [
      "insights\n",
      "• rows:9551 | cols:(9551, 21)\n",
      "• higher avg rating group: Table Booking\n",
      "• highest online delivery at price 2 (~41.3%)\n"
     ]
    },
    {
     "data": {
      "text/plain": [
       "[None, None, None]"
      ]
     },
     "execution_count": 10,
     "metadata": {},
     "output_type": "execute_result"
    }
   ],
   "source": [
    "svc_better=None\n",
    "if {'Yes','No'}.issubset(set(tb_stats.index)):\n",
    "    svc_better='Table Booking' if tb_stats.loc['Yes','mean']>tb_stats.loc['No','mean'] else 'No Table Booking'\n",
    "best_price=None; best_pct=None\n",
    "if ('Yes' in od_price.columns) and (len(od_price)>0):\n",
    "    best_price=float(od_price['Yes'].idxmax()); best_pct=float(od_price.loc[best_price,'Yes'])\n",
    "lines=[]\n",
    "lines.append(f\"rows:{len(df)} | cols:{df.shape}\")\n",
    "if svc_better: lines.append(f\"higher avg rating group: {svc_better}\")\n",
    "if best_price is not None: lines.append(f\"highest online delivery at price {best_price:.0f} (~{best_pct:.1f}%)\")\n",
    "print('insights'); [print('•',x) for x in lines]"
   ]
  },
  {
   "cell_type": "code",
   "execution_count": null,
   "id": "2c5bd6db-492e-42a3-965b-d66f9ae60723",
   "metadata": {},
   "outputs": [],
   "source": []
  }
 ],
 "metadata": {
  "kernelspec": {
   "display_name": "Python 3 (ipykernel)",
   "language": "python",
   "name": "python3"
  },
  "language_info": {
   "codemirror_mode": {
    "name": "ipython",
    "version": 3
   },
   "file_extension": ".py",
   "mimetype": "text/x-python",
   "name": "python",
   "nbconvert_exporter": "python",
   "pygments_lexer": "ipython3",
   "version": "3.12.7"
  }
 },
 "nbformat": 4,
 "nbformat_minor": 5
}
